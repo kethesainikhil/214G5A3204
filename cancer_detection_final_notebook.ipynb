{
  "cells": [
    {
      "cell_type": "markdown",
      "metadata": {
        "id": "view-in-github",
        "colab_type": "text"
      },
      "source": [
        "<a href=\"https://colab.research.google.com/github/kethesainikhil/214G5A3204/blob/main/cancer_detection_final_notebook.ipynb\" target=\"_parent\"><img src=\"https://colab.research.google.com/assets/colab-badge.svg\" alt=\"Open In Colab\"/></a>"
      ]
    },
    {
      "cell_type": "code",
      "execution_count": null,
      "metadata": {
        "id": "3c59abf7"
      },
      "outputs": [],
      "source": [
        "import tensorflow as tf\n",
        "from tensorflow.keras import models, layers\n",
        "import matplotlib.pyplot as plt\n",
        "from IPython.display import HTML"
      ],
      "id": "3c59abf7"
    },
    {
      "cell_type": "code",
      "execution_count": null,
      "metadata": {
        "id": "oJA5_L5T-vqc",
        "colab": {
          "base_uri": "https://localhost:8080/"
        },
        "outputId": "1fb3a390-44c2-46e5-c861-4ac73849a18e"
      },
      "outputs": [
        {
          "output_type": "stream",
          "name": "stdout",
          "text": [
            "Mounted at /content/drive\n"
          ]
        }
      ],
      "source": [
        "from google.colab import drive\n",
        "drive.mount('/content/drive')"
      ],
      "id": "oJA5_L5T-vqc"
    },
    {
      "cell_type": "code",
      "execution_count": null,
      "metadata": {
        "id": "5f867b41"
      },
      "outputs": [],
      "source": [
        "BATCH_SIZE = 20\n",
        "IMAGE_SIZE = 256\n",
        "CHANNELS=3\n",
        "EPOCHS=50"
      ],
      "id": "5f867b41"
    },
    {
      "cell_type": "code",
      "execution_count": null,
      "metadata": {
        "id": "ab9243e3"
      },
      "outputs": [],
      "source": [
        "dataset = tf.keras.preprocessing.image_dataset_from_directory(\n",
        "    \"/content/drive/MyDrive/final_dataset1\",\n",
        "    seed=123,\n",
        "    shuffle=True,\n",
        "    image_size=(IMAGE_SIZE,IMAGE_SIZE),\n",
        "    batch_size=BATCH_SIZE\n",
        ")"
      ],
      "id": "ab9243e3"
    },
    {
      "cell_type": "code",
      "execution_count": null,
      "metadata": {
        "id": "1312fe74"
      },
      "outputs": [],
      "source": [
        "class_names = dataset.class_names\n",
        "class_names"
      ],
      "id": "1312fe74"
    },
    {
      "cell_type": "code",
      "execution_count": null,
      "metadata": {
        "id": "e939d5ca"
      },
      "outputs": [],
      "source": [
        "for image_batch, labels_batch in dataset.take(1):\n",
        "    print(image_batch.shape)\n",
        "    print(labels_batch.numpy())"
      ],
      "id": "e939d5ca"
    },
    {
      "cell_type": "code",
      "execution_count": null,
      "metadata": {
        "id": "e90381fd"
      },
      "outputs": [],
      "source": [
        "plt.figure(figsize=(10, 10))\n",
        "for image_batch, labels_batch in dataset.take(1):\n",
        "    for i in range(12):\n",
        "        ax = plt.subplot(3, 4, i + 1)\n",
        "        plt.imshow(image_batch[i].numpy().astype(\"uint8\"))\n",
        "        plt.title(class_names[labels_batch[i]])\n",
        "        plt.axis(\"off\")"
      ],
      "id": "e90381fd"
    },
    {
      "cell_type": "code",
      "execution_count": null,
      "metadata": {
        "id": "2cae168b",
        "scrolled": true
      },
      "outputs": [],
      "source": [
        "len(dataset)"
      ],
      "id": "2cae168b"
    },
    {
      "cell_type": "code",
      "execution_count": null,
      "metadata": {
        "id": "80973a48"
      },
      "outputs": [],
      "source": [
        "train_size = 0.8\n",
        "len(dataset)*train_size"
      ],
      "id": "80973a48"
    },
    {
      "cell_type": "code",
      "execution_count": null,
      "metadata": {
        "id": "0751d0d1"
      },
      "outputs": [],
      "source": [
        "test_ds = dataset.skip(70)\n",
        "len(test_ds)"
      ],
      "id": "0751d0d1"
    },
    {
      "cell_type": "code",
      "execution_count": null,
      "metadata": {
        "id": "a4414f2e"
      },
      "outputs": [],
      "source": [
        "val_size=0.1\n",
        "len(dataset)*val_size"
      ],
      "id": "a4414f2e"
    },
    {
      "cell_type": "code",
      "execution_count": null,
      "metadata": {
        "id": "74a20479"
      },
      "outputs": [],
      "source": [
        "val_ds = test_ds.take(10)\n",
        "len(val_ds)"
      ],
      "id": "74a20479"
    },
    {
      "cell_type": "code",
      "execution_count": null,
      "metadata": {
        "id": "8db7425e"
      },
      "outputs": [],
      "source": [
        "test_ds = test_ds.skip(10)\n",
        "len(test_ds)"
      ],
      "id": "8db7425e"
    },
    {
      "cell_type": "code",
      "execution_count": null,
      "metadata": {
        "id": "def6e3f2"
      },
      "outputs": [],
      "source": [
        "def get_dataset_partitions_tf(ds, train_split=0.8, val_split=0.1, test_split=0.1, shuffle=True, shuffle_size=10000):\n",
        "    assert (train_split + test_split + val_split) == 1\n",
        "\n",
        "    ds_size = len(ds)\n",
        "\n",
        "    if shuffle:\n",
        "        ds = ds.shuffle(shuffle_size, seed=12)\n",
        "\n",
        "    train_size = int(train_split * ds_size)\n",
        "    val_size = int(val_split * ds_size)\n",
        "\n",
        "    train_ds = ds.take(train_size)\n",
        "    val_ds = ds.skip(train_size).take(val_size)\n",
        "    test_ds = ds.skip(train_size).skip(val_size)\n",
        "\n",
        "    return train_ds, val_ds, test_ds"
      ],
      "id": "def6e3f2"
    },
    {
      "cell_type": "code",
      "execution_count": null,
      "metadata": {
        "id": "3d973f83"
      },
      "outputs": [],
      "source": [
        "train_ds, val_ds, test_ds = get_dataset_partitions_tf(dataset)"
      ],
      "id": "3d973f83"
    },
    {
      "cell_type": "code",
      "execution_count": null,
      "metadata": {
        "id": "f999000e"
      },
      "outputs": [],
      "source": [
        "len(train_ds)"
      ],
      "id": "f999000e"
    },
    {
      "cell_type": "code",
      "execution_count": null,
      "metadata": {
        "id": "7d6c0869"
      },
      "outputs": [],
      "source": [
        "len(val_ds)"
      ],
      "id": "7d6c0869"
    },
    {
      "cell_type": "code",
      "execution_count": null,
      "metadata": {
        "id": "610a2717"
      },
      "outputs": [],
      "source": [
        "len(test_ds)"
      ],
      "id": "610a2717"
    },
    {
      "cell_type": "code",
      "execution_count": null,
      "metadata": {
        "id": "aeed49a0"
      },
      "outputs": [],
      "source": [
        "train_ds = train_ds.cache().shuffle(1000).prefetch(buffer_size=tf.data.AUTOTUNE)\n",
        "val_ds = val_ds.cache().shuffle(1000).prefetch(buffer_size=tf.data.AUTOTUNE)\n",
        "test_ds = test_ds.cache().shuffle(1000).prefetch(buffer_size=tf.data.AUTOTUNE)"
      ],
      "id": "aeed49a0"
    },
    {
      "cell_type": "code",
      "execution_count": null,
      "metadata": {
        "id": "db54d256"
      },
      "outputs": [],
      "source": [
        "resize_and_rescale = tf.keras.Sequential([\n",
        "  layers.experimental.preprocessing.Resizing(IMAGE_SIZE, IMAGE_SIZE),\n",
        "  layers.experimental.preprocessing.Rescaling(1./255),\n",
        "])"
      ],
      "id": "db54d256"
    },
    {
      "cell_type": "code",
      "execution_count": null,
      "metadata": {
        "id": "adaccece"
      },
      "outputs": [],
      "source": [
        "data_augmentation = tf.keras.Sequential([\n",
        "  layers.experimental.preprocessing.RandomFlip(\"horizontal_and_vertical\"),\n",
        "  layers.experimental.preprocessing.RandomRotation(0.2),\n",
        "])"
      ],
      "id": "adaccece"
    },
    {
      "cell_type": "code",
      "execution_count": null,
      "metadata": {
        "id": "dad5b27e"
      },
      "outputs": [],
      "source": [
        "train_ds = train_ds.map(\n",
        "    lambda x, y: (data_augmentation(x, training=True), y)\n",
        ").prefetch(buffer_size=tf.data.AUTOTUNE)"
      ],
      "id": "dad5b27e"
    },
    {
      "cell_type": "code",
      "execution_count": null,
      "metadata": {
        "id": "ca3b5cca"
      },
      "outputs": [],
      "source": [
        "input_shape = (BATCH_SIZE, IMAGE_SIZE, IMAGE_SIZE, CHANNELS)\n",
        "n_classes = 2\n",
        "\n",
        "model = models.Sequential([\n",
        "    resize_and_rescale,\n",
        "    layers.Conv2D(32, kernel_size = (3,3), activation='relu', input_shape=input_shape),\n",
        "    layers.MaxPooling2D((2, 2)),\n",
        "    layers.Conv2D(64,  kernel_size = (3,3), activation='relu'),\n",
        "    layers.MaxPooling2D((2, 2)),\n",
        "    layers.Conv2D(64,  kernel_size = (3,3), activation='relu'),\n",
        "    layers.MaxPooling2D((2, 2)),\n",
        "    layers.Conv2D(64, (3, 3), activation='relu'),\n",
        "    layers.MaxPooling2D((2, 2)),\n",
        "    layers.Conv2D(64, (3, 3), activation='relu'),\n",
        "    layers.MaxPooling2D((2, 2)),\n",
        "    layers.Conv2D(64, (3, 3), activation='relu'),\n",
        "    layers.MaxPooling2D((2, 2)),\n",
        "    layers.Flatten(),\n",
        "    layers.Dense(64, activation='relu'),\n",
        "    layers.Dense(n_classes, activation='softmax'),\n",
        "])\n",
        "\n",
        "model.build(input_shape=input_shape)"
      ],
      "id": "ca3b5cca"
    },
    {
      "cell_type": "code",
      "execution_count": null,
      "metadata": {
        "id": "f2ec3a90"
      },
      "outputs": [],
      "source": [
        "model.summary()"
      ],
      "id": "f2ec3a90"
    },
    {
      "cell_type": "code",
      "execution_count": null,
      "metadata": {
        "id": "9f717052"
      },
      "outputs": [],
      "source": [
        "model.compile(\n",
        "    optimizer='adam',\n",
        "    loss=tf.keras.losses.SparseCategoricalCrossentropy(from_logits=False),\n",
        "    metrics=['accuracy']\n",
        ")"
      ],
      "id": "9f717052"
    },
    {
      "cell_type": "code",
      "execution_count": null,
      "metadata": {
        "colab": {
          "background_save": true
        },
        "id": "fb93818c",
        "outputId": "e47d2467-9c4c-47b7-a4b2-b75e205518fe"
      },
      "outputs": [
        {
          "ename": "NameError",
          "evalue": "ignored",
          "output_type": "error",
          "traceback": [
            "\u001b[0;31m---------------------------------------------------------------------------\u001b[0m",
            "\u001b[0;31mNameError\u001b[0m                                 Traceback (most recent call last)",
            "\u001b[0;32m<ipython-input-1-0e53a71254c1>\u001b[0m in \u001b[0;36m<cell line: 1>\u001b[0;34m()\u001b[0m\n\u001b[0;32m----> 1\u001b[0;31m history = model.fit(\n\u001b[0m\u001b[1;32m      2\u001b[0m     \u001b[0mtrain_ds\u001b[0m\u001b[0;34m,\u001b[0m\u001b[0;34m\u001b[0m\u001b[0;34m\u001b[0m\u001b[0m\n\u001b[1;32m      3\u001b[0m     \u001b[0mbatch_size\u001b[0m\u001b[0;34m=\u001b[0m\u001b[0mBATCH_SIZE\u001b[0m\u001b[0;34m,\u001b[0m\u001b[0;34m\u001b[0m\u001b[0;34m\u001b[0m\u001b[0m\n\u001b[1;32m      4\u001b[0m     \u001b[0mvalidation_data\u001b[0m\u001b[0;34m=\u001b[0m\u001b[0mval_ds\u001b[0m\u001b[0;34m,\u001b[0m\u001b[0;34m\u001b[0m\u001b[0;34m\u001b[0m\u001b[0m\n\u001b[1;32m      5\u001b[0m     \u001b[0mverbose\u001b[0m\u001b[0;34m=\u001b[0m\u001b[0;36m1\u001b[0m\u001b[0;34m,\u001b[0m\u001b[0;34m\u001b[0m\u001b[0;34m\u001b[0m\u001b[0m\n",
            "\u001b[0;31mNameError\u001b[0m: name 'model' is not defined"
          ]
        }
      ],
      "source": [
        "history = model.fit(\n",
        "    train_ds,\n",
        "    batch_size=BATCH_SIZE,\n",
        "    validation_data=val_ds,\n",
        "    verbose=1,\n",
        "    epochs=10,\n",
        ")"
      ],
      "id": "fb93818c"
    },
    {
      "cell_type": "code",
      "execution_count": null,
      "metadata": {
        "id": "odpDgHYiBZvg"
      },
      "outputs": [],
      "source": [
        "import tensorflow as tf\n",
        "from tensorflow.keras.applications import ResNet50\n",
        "from tensorflow.keras.models import Model\n",
        "from tensorflow.keras.layers import Dense, GlobalAveragePooling2D\n",
        "from tensorflow.keras.preprocessing.image import ImageDataGenerator\n",
        "\n",
        "# Define constants\n",
        "IMAGE_SIZE = 256  # Adjust this to match your dataset's image size\n",
        "NUM_CLASSES = 2  # Number of classes in your dataset\n",
        "BATCH_SIZE = 25\n",
        "EPOCHS = 20\n",
        "\n",
        "# Load the pre-trained ResNet-50 model\n",
        "base_model = ResNet50(weights='imagenet', include_top=False, input_shape=(IMAGE_SIZE, IMAGE_SIZE, 3))\n",
        "\n",
        "# Freeze the layers of the base model\n",
        "for layer in base_model.layers:\n",
        "    layer.trainable = False\n",
        "\n",
        "# Add custom classification layers on top of the base model\n",
        "x = base_model.output\n",
        "x = GlobalAveragePooling2D()(x)\n",
        "x = Dense(1024, activation='relu')(x)  # You can adjust the number of units as needed\n",
        "predictions = Dense(2, activation='softmax')(x)\n",
        "\n",
        "# Create the fine-tuned model\n",
        "model = Model(inputs=base_model.input, outputs=predictions)\n",
        "\n",
        "# Compile the model\n",
        "# Compile the model with 'sparse_categorical_crossentropy' as the loss function\n",
        "model.compile(optimizer='adam', loss='sparse_categorical_crossentropy', metrics=['accuracy'])"
      ],
      "id": "odpDgHYiBZvg"
    },
    {
      "cell_type": "code",
      "execution_count": null,
      "metadata": {
        "id": "JTpOC9T9f2Xo"
      },
      "outputs": [],
      "source": [],
      "id": "JTpOC9T9f2Xo"
    },
    {
      "cell_type": "code",
      "execution_count": null,
      "metadata": {
        "id": "-hiCIQ3iCKOx"
      },
      "outputs": [],
      "source": [
        "from tensorflow.keras.callbacks import EarlyStopping\n",
        "early_stopping = EarlyStopping(monitor='val_loss', patience=5, restore_best_weights=True)\n",
        "history = model.fit(\n",
        "    train_ds,\n",
        "    epochs=50,\n",
        "    validation_data=val_ds,\n",
        "    callbacks=[early_stopping]\n",
        ")"
      ],
      "id": "-hiCIQ3iCKOx"
    },
    {
      "cell_type": "code",
      "execution_count": null,
      "metadata": {
        "id": "5e67e349"
      },
      "outputs": [],
      "source": [
        "scores = model.evaluate(test_ds)"
      ],
      "id": "5e67e349"
    },
    {
      "cell_type": "code",
      "execution_count": null,
      "metadata": {
        "id": "a01b3555"
      },
      "outputs": [],
      "source": [
        "scores"
      ],
      "id": "a01b3555"
    },
    {
      "cell_type": "code",
      "execution_count": null,
      "metadata": {
        "id": "b8c14efd"
      },
      "outputs": [],
      "source": [
        "history"
      ],
      "id": "b8c14efd"
    },
    {
      "cell_type": "code",
      "execution_count": null,
      "metadata": {
        "id": "7cb7e1e9"
      },
      "outputs": [],
      "source": [
        "history.params"
      ],
      "id": "7cb7e1e9"
    },
    {
      "cell_type": "code",
      "execution_count": null,
      "metadata": {
        "id": "fcafa6b6"
      },
      "outputs": [],
      "source": [
        "history.history.keys()"
      ],
      "id": "fcafa6b6"
    },
    {
      "cell_type": "code",
      "execution_count": null,
      "metadata": {
        "id": "b4c0d716"
      },
      "outputs": [],
      "source": [
        "acc = history.history['accuracy']\n",
        "val_acc = history.history['val_accuracy']\n",
        "\n",
        "loss = history.history['loss']\n",
        "val_loss = history.history['val_loss']"
      ],
      "id": "b4c0d716"
    },
    {
      "cell_type": "code",
      "execution_count": null,
      "metadata": {
        "id": "e9b78dfe"
      },
      "outputs": [],
      "source": [
        "import numpy as np\n",
        "for images_batch, labels_batch in test_ds.take(1):\n",
        "\n",
        "    first_image = images_batch[0].numpy().astype('uint8')\n",
        "    first_label = labels_batch[0].numpy()\n",
        "\n",
        "    print(\"first image to predict\")\n",
        "    plt.imshow(first_image)\n",
        "    print(\"actual label:\",class_names[first_label])\n",
        "\n",
        "    batch_prediction = model.predict(images_batch)\n",
        "    print(\"predicted label:\",class_names[np.argmax(batch_prediction[0])])"
      ],
      "id": "e9b78dfe"
    },
    {
      "cell_type": "code",
      "execution_count": null,
      "metadata": {
        "id": "207db8d6"
      },
      "outputs": [],
      "source": [
        "def predict(model, img):\n",
        "    img_array = tf.keras.preprocessing.image.img_to_array(images[i].numpy())\n",
        "    img_array = tf.expand_dims(img_array, 0)\n",
        "\n",
        "    predictions = model.predict(img_array)\n",
        "\n",
        "    predicted_class = class_names[np.argmax(predictions[0])]\n",
        "    confidence = round(100 * (np.max(predictions[0])), 2)\n",
        "    return predicted_class, confidence"
      ],
      "id": "207db8d6"
    },
    {
      "cell_type": "code",
      "execution_count": null,
      "metadata": {
        "id": "LF-LR8DvDtqb"
      },
      "outputs": [],
      "source": [
        "model.save('perfect_model_updated.h5')"
      ],
      "id": "LF-LR8DvDtqb"
    },
    {
      "cell_type": "code",
      "execution_count": null,
      "metadata": {
        "id": "emc8Hwk4E1We"
      },
      "outputs": [],
      "source": [
        "!pip install pyyaml h5py"
      ],
      "id": "emc8Hwk4E1We"
    },
    {
      "cell_type": "code",
      "execution_count": null,
      "metadata": {
        "id": "db9468b6"
      },
      "outputs": [],
      "source": [
        "plt.figure(figsize=(15, 15))\n",
        "for images, labels in test_ds.take(1):\n",
        "    for i in range(9):\n",
        "        ax = plt.subplot(3, 3, i + 1)\n",
        "        plt.imshow(images[i].numpy().astype(\"uint8\"))\n",
        "\n",
        "        predicted_class, confidence = predict(model, images[i].numpy())\n",
        "        actual_class = class_names[labels[i]]\n",
        "\n",
        "        plt.title(f\"Actual: {actual_class},\\n Predicted: {predicted_class}.\\n Confidence: {confidence}%\")\n",
        "\n",
        "        plt.axis(\"off\")"
      ],
      "id": "db9468b6"
    },
    {
      "cell_type": "code",
      "execution_count": null,
      "metadata": {
        "id": "df0b6af9"
      },
      "outputs": [],
      "source": [
        "import pickle\n",
        "import tensorflow as tf\n",
        "\n",
        "# Assuming you have a trained CNN model named 'cnn_model'\n",
        "# ...\n",
        "\n",
        "# Serialize the model architecture to a string\n",
        "model_architecture = model.to_json()\n",
        "\n",
        "# Serialize the model weights to bytes\n",
        "model_weights = model.get_weights()\n",
        "\n",
        "# Save the model architecture and weights using Pickle\n",
        "with open('cnn_model_architecture.pkl', 'wb') as arch_file:\n",
        "    pickle.dump(model_architecture, arch_file)\n",
        "\n",
        "with open('cnn_model_weights.pkl', 'wb') as weights_file:\n",
        "    pickle.dump(model_weights, weights_file)\n"
      ],
      "id": "df0b6af9"
    },
    {
      "cell_type": "code",
      "execution_count": null,
      "metadata": {
        "id": "DUYvxox4o4NS"
      },
      "outputs": [],
      "source": [
        "import pickle\n",
        "import tensorflow as tf\n",
        "\n",
        "# Save the entire model, including architecture and weights, using Pickle\n",
        "with open('perfect_model_updated_pickel.pkl', 'wb') as model_file:\n",
        "    pickle.dump(model, model_file)\n"
      ],
      "id": "DUYvxox4o4NS"
    }
  ],
  "metadata": {
    "accelerator": "GPU",
    "colab": {
      "provenance": [],
      "include_colab_link": true
    },
    "kernelspec": {
      "display_name": "Python 3",
      "name": "python3"
    },
    "language_info": {
      "codemirror_mode": {
        "name": "ipython",
        "version": 3
      },
      "file_extension": ".py",
      "mimetype": "text/x-python",
      "name": "python",
      "nbconvert_exporter": "python",
      "pygments_lexer": "ipython3",
      "version": "3.11.4"
    }
  },
  "nbformat": 4,
  "nbformat_minor": 5
}